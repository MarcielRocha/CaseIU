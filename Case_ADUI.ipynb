{
  "nbformat": 4,
  "nbformat_minor": 0,
  "metadata": {
    "colab": {
      "provenance": []
    },
    "kernelspec": {
      "name": "python3",
      "display_name": "Python 3"
    },
    "language_info": {
      "name": "python"
    }
  },
  "cells": [
    {
      "cell_type": "code",
      "execution_count": 4,
      "metadata": {
        "id": "acNgZQ4iL70y"
      },
      "outputs": [],
      "source": [
        "# prompt: O arquivo Alunos.csv possui as seguintes colunas: aluno_id, nome, turma, escola_id\n",
        "# O arquivo Testes.csv possui as seguntes colunas: aluno_id, disciplina, nota, bimestre\n",
        "# Crie um código que una as duas tabelas através dos campos aluno_id e armazene na tabela AlunosxTestes com os seguintes campos: aluno_id, nome, turma, disciplina, nota, bimestre.\n",
        "# Ordene a tabela AlunosxTestes pelos campos turma em ordem crescente e nome em ordem crescente.\n",
        "# Salve a tabela AlunosxTestes no arquivo alunos_avaliacoes.csv\n",
        "\n",
        "import pandas as pd\n",
        "\n",
        "# Load the datasets\n",
        "alunos_df = pd.read_csv('Alunos.csv', encoding='latin1')\n",
        "testes_df = pd.read_csv('Testes.csv', encoding='latin1')\n",
        "\n",
        "# Merge the two dataframes\n",
        "alunos_avaliacoes_df = pd.merge(alunos_df, testes_df, on='aluno_id')\n",
        "\n",
        "# Select and reorder the columns\n",
        "alunos_avaliacoes_df = alunos_avaliacoes_df[['aluno_id', 'nome', 'turma', 'disciplina', 'nota', 'bimestre']]\n",
        "\n",
        "# Sort the merged dataframe\n",
        "alunos_avaliacoes_df = alunos_avaliacoes_df.sort_values(by=['turma', 'nome'], ascending=[True, True])\n",
        "\n",
        "# Save the result to a new CSV file\n",
        "alunos_avaliacoes_df.to_csv('alunos_avaliacoes.csv', index=False)"
      ]
    }
  ]
}